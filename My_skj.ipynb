{
  "nbformat": 4,
  "nbformat_minor": 0,
  "metadata": {
    "colab": {
      "provenance": [],
      "authorship_tag": "ABX9TyPY2YofTif+oYQsPx8PKn9N",
      "include_colab_link": true
    },
    "kernelspec": {
      "name": "python3",
      "display_name": "Python 3"
    },
    "language_info": {
      "name": "python"
    }
  },
  "cells": [
    {
      "cell_type": "markdown",
      "metadata": {
        "id": "view-in-github",
        "colab_type": "text"
      },
      "source": [
        "<a href=\"https://colab.research.google.com/github/jaheerTech/pytest/blob/main/My_skj.ipynb\" target=\"_parent\"><img src=\"https://colab.research.google.com/assets/colab-badge.svg\" alt=\"Open In Colab\"/></a>"
      ]
    },
    {
      "cell_type": "markdown",
      "source": [
        "**PYTHON SAMPLE TEST**                                          'skj'"
      ],
      "metadata": {
        "id": "ajpSjqRprnQP"
      }
    },
    {
      "cell_type": "code",
      "execution_count": null,
      "metadata": {
        "colab": {
          "base_uri": "https://localhost:8080/"
        },
        "id": "ip2kKfWydZud",
        "outputId": "9f9f5e0c-8413-4cc3-f9c9-ae81a7e2c390"
      },
      "outputs": [
        {
          "output_type": "stream",
          "name": "stdout",
          "text": [
            "Enter your name: 16\n",
            "Enter your age: 16\n",
            "Dear 16 your not eligible for application pls wait for2 years\n"
          ]
        }
      ],
      "source": [
        "A=input(\"Enter your name: \")\n",
        "Age=int(input(\"Enter your age: \"))\n",
        "wait=18-Age\n",
        "if Age<18:\n",
        "  print(f\"Dear {A} your not eligible for application pls wait for{wait} years\")\n",
        "else:\n",
        "  print(f\"Dear {A} pls wait application is processing!!\")"
      ]
    },
    {
      "cell_type": "code",
      "source": [
        "x,y=10,20\n",
        "temp=x\n",
        "x=y\n",
        "y=temp\n",
        "print(x,y)"
      ],
      "metadata": {
        "colab": {
          "base_uri": "https://localhost:8080/"
        },
        "id": "GrISuDYnkcrP",
        "outputId": "4bd687dc-aea9-4aee-8230-6316084a470f"
      },
      "execution_count": null,
      "outputs": [
        {
          "output_type": "stream",
          "name": "stdout",
          "text": [
            "20 10\n"
          ]
        }
      ]
    },
    {
      "cell_type": "code",
      "source": [
        "#TASK\n",
        "total_marks = 100\n",
        "passing_marks = 40\n",
        "marks = int(input(\"enter your marks: \"))\n",
        "#if marks >=91 and marks<=100:#\n",
        "if 91<=marks<=100:\n",
        "  print(f\"you have scored A+ grade & you have got {marks}\")\n",
        "elif 81<=marks<=90:\n",
        "  print(f\"you have scored A grade & you have got {marks}\")\n",
        "elif 71<=marks<=80:\n",
        "  print(f\"you have scored B grade & you have got {marks}\")\n",
        "elif 61<=marks<=70:\n",
        "  print(f\"you have scored C grade & you have got {marks}\")\n",
        "elif 51<=marks<=60:\n",
        "  print(f\"you have scored D grade & you have got {marks}\")\n",
        "elif marks>100:\n",
        "  print(\"Dont be smart & Invalid marks\")\n",
        "else:\n",
        "  print(\"Better luck next time\")\n",
        "  print(f'you have received {marks} marks')"
      ],
      "metadata": {
        "colab": {
          "base_uri": "https://localhost:8080/"
        },
        "id": "YSlA993XDut6",
        "outputId": "4c85fd19-e06a-4676-dc5e-7c0b273771d2"
      },
      "execution_count": null,
      "outputs": [
        {
          "output_type": "stream",
          "name": "stdout",
          "text": [
            "enter your marks: 107\n",
            "Dont be smart & Invalid marks\n"
          ]
        }
      ]
    },
    {
      "cell_type": "markdown",
      "source": [
        "**QR** **Genarator**"
      ],
      "metadata": {
        "id": "CNuetujLmMhK"
      }
    },
    {
      "cell_type": "code",
      "source": [
        "! pip install qrcode\n",
        "import qrcode\n",
        "j=\"https://colab.research.google.com/drive/1pcZ84LZowp9R5uiOMJUy-zUQ2HhLXrZR#scrollTo=V7CmV0JRmIYk\"\n",
        "img=qrcode.make(j)\n",
        "img.save(\"qr_code.png\")\n",
        "print('QR code successfully created and save')"
      ],
      "metadata": {
        "colab": {
          "base_uri": "https://localhost:8080/"
        },
        "id": "VpYngVzgvLPo",
        "outputId": "9a1c49e9-d3bf-4314-eb71-87bd46817283"
      },
      "execution_count": null,
      "outputs": [
        {
          "output_type": "stream",
          "name": "stdout",
          "text": [
            "Requirement already satisfied: qrcode in /usr/local/lib/python3.10/dist-packages (8.0)\n",
            "QR code successfully created and save\n",
            "None\n"
          ]
        }
      ]
    },
    {
      "cell_type": "code",
      "source": [
        "import os\n",
        "crd=os.getcwd()\n",
        "print(f'saved in:{crd}')"
      ],
      "metadata": {
        "colab": {
          "base_uri": "https://localhost:8080/"
        },
        "id": "R9dHfXtVyZ9r",
        "outputId": "13a0662b-6a42-46e9-bfed-d4240354b74e"
      },
      "execution_count": null,
      "outputs": [
        {
          "output_type": "stream",
          "name": "stdout",
          "text": [
            "saved in:/content\n"
          ]
        }
      ]
    },
    {
      "cell_type": "code",
      "source": [
        "a={1,1,1,2,2,6,6,6,6}\n",
        "b=list(a)\n",
        "print(b)\n",
        "print(b[2])"
      ],
      "metadata": {
        "colab": {
          "base_uri": "https://localhost:8080/"
        },
        "id": "288DDHHaQKnR",
        "outputId": "ec2c0423-af1a-49d0-d79c-d93a150d016b"
      },
      "execution_count": null,
      "outputs": [
        {
          "output_type": "stream",
          "name": "stdout",
          "text": [
            "[1, 2, 6]\n",
            "6\n"
          ]
        }
      ]
    },
    {
      "cell_type": "code",
      "source": [
        "x=\"1234\"\n",
        "y=list(x)\n",
        "y[0]='9'\n",
        "print(''.join(y))"
      ],
      "metadata": {
        "colab": {
          "base_uri": "https://localhost:8080/"
        },
        "id": "vh-gKVy2RA4A",
        "outputId": "88627769-6b30-4434-8c6e-c0c8dac38e1f"
      },
      "execution_count": null,
      "outputs": [
        {
          "output_type": "stream",
          "name": "stdout",
          "text": [
            "9234\n"
          ]
        }
      ]
    },
    {
      "cell_type": "code",
      "source": [
        "#zip to combine 2 lists\n",
        "name=['shaik','jaheer','jack']\n",
        "marks=[60,70,90]\n",
        "city=['Ap','Ka','Tn']\n",
        "combine=list(zip(name,marks,city))\n",
        "print(combine)"
      ],
      "metadata": {
        "colab": {
          "base_uri": "https://localhost:8080/"
        },
        "id": "mIZjyNkIvDJA",
        "outputId": "2a7d313b-0479-421a-dcee-131c23728130"
      },
      "execution_count": null,
      "outputs": [
        {
          "output_type": "stream",
          "name": "stdout",
          "text": [
            "[('shaik', 60, 'Ap'), ('jaheer', 70, 'Ka'), ('jack', 90, 'Tn')]\n"
          ]
        }
      ]
    },
    {
      "cell_type": "code",
      "source": [
        "j=0\n",
        "while -10<=j:\n",
        "  print(j)\n",
        "  j=j-1\n",
        "  # j=j+1\n"
      ],
      "metadata": {
        "colab": {
          "base_uri": "https://localhost:8080/"
        },
        "id": "7jN304oG94aH",
        "outputId": "d85883a0-4991-4592-a143-98f7c164c640"
      },
      "execution_count": null,
      "outputs": [
        {
          "output_type": "stream",
          "name": "stdout",
          "text": [
            "0\n",
            "-1\n",
            "-2\n",
            "-3\n",
            "-4\n",
            "-5\n",
            "-6\n",
            "-7\n",
            "-8\n",
            "-9\n",
            "-10\n"
          ]
        }
      ]
    },
    {
      "cell_type": "code",
      "source": [],
      "metadata": {
        "id": "EuvCbcoe_9hH"
      },
      "execution_count": null,
      "outputs": []
    },
    {
      "cell_type": "code",
      "source": [
        "num=[2,4,6,7,8,50]\n",
        "for i in num:\n",
        "  sqr=i**2\n",
        "  print(sqr)\n",
        "  print(\"-----\")\n",
        "  print(len(str(sqr)))\n"
      ],
      "metadata": {
        "id": "Pqe7BwS0_9Dm"
      },
      "execution_count": null,
      "outputs": []
    },
    {
      "cell_type": "markdown",
      "source": [
        "**pyramids**"
      ],
      "metadata": {
        "id": "7yaXgVcpKJ1T"
      }
    },
    {
      "cell_type": "code",
      "source": [
        "#pyramid\n",
        "print(\"\\n Normal piramid\")\n",
        "for i in range(5):\n",
        "  x='*'\n",
        "  x=x*i\n",
        "  print(x)"
      ],
      "metadata": {
        "colab": {
          "base_uri": "https://localhost:8080/"
        },
        "id": "MzTKHKM9HAN3",
        "outputId": "bef64fec-3851-4c0b-8fb6-42ddff300dd2"
      },
      "execution_count": null,
      "outputs": [
        {
          "output_type": "stream",
          "name": "stdout",
          "text": [
            "\n",
            " Normal piramid\n",
            "\n",
            "*\n",
            "**\n",
            "***\n",
            "****\n"
          ]
        }
      ]
    },
    {
      "cell_type": "code",
      "source": [
        "print(\"\\n Normal piramid\")\n",
        "for i in range(5):\n",
        "  x='*'\n",
        "  x=x*i\n",
        "  print(f'{x:^5}')"
      ],
      "metadata": {
        "id": "hysZuRzII3OJ"
      },
      "execution_count": null,
      "outputs": []
    },
    {
      "cell_type": "code",
      "source": [
        "#2.Inverted pyramid\n",
        "print(\"\\n inverted piramid\")\n",
        "for i in range(5):\n",
        "  x='*'\n",
        "  x=x*(5-i)\n",
        "  print(f'{x:^10}')\n",
        "\n",
        "\n",
        "\n"
      ],
      "metadata": {
        "id": "wTyvNQTcKE-Z"
      },
      "execution_count": null,
      "outputs": []
    },
    {
      "cell_type": "code",
      "source": [
        "#3.left side pyramid\n",
        "print(\"\\n left side piramid\")\n",
        "for i in range(5):\n",
        "  x='*'\n",
        "  x=x*i\n",
        "  print(f'{x:<10}')"
      ],
      "metadata": {
        "id": "W5FfO11iLYZ2"
      },
      "execution_count": null,
      "outputs": []
    },
    {
      "cell_type": "code",
      "source": [
        "print(\"\\n right side piramid\")\n",
        "for i in range(5):\n",
        "  x='*'\n",
        "  x=x*i\n",
        "  print(f'{x:>10}')"
      ],
      "metadata": {
        "colab": {
          "base_uri": "https://localhost:8080/"
        },
        "id": "jXF7QXiuL1y8",
        "outputId": "2949608e-d9ac-4eba-d752-742aa27815e8"
      },
      "execution_count": null,
      "outputs": [
        {
          "output_type": "stream",
          "name": "stdout",
          "text": [
            "\n",
            " right side piramid\n",
            "          \n",
            "         *\n",
            "        **\n",
            "       ***\n",
            "      ****\n"
          ]
        }
      ]
    },
    {
      "cell_type": "code",
      "source": [
        "#python pattern\n",
        "str=\"python\"\n",
        "x=0\n",
        "for i in str:\n",
        "  x=x+1\n",
        "  print(str[0:x])\n",
        "for i in str:\n",
        "  x=x-1\n",
        "  print(str[0:x])"
      ],
      "metadata": {
        "colab": {
          "base_uri": "https://localhost:8080/"
        },
        "id": "uvC-diZ6ME1H",
        "outputId": "ff595752-d9ea-4d47-a7fb-45961cf2012d"
      },
      "execution_count": null,
      "outputs": [
        {
          "output_type": "stream",
          "name": "stdout",
          "text": [
            "p\n",
            "py\n",
            "pyt\n",
            "pyth\n",
            "pytho\n",
            "python\n",
            "pytho\n",
            "pyth\n",
            "pyt\n",
            "py\n",
            "p\n",
            "\n"
          ]
        }
      ]
    },
    {
      "cell_type": "code",
      "source": [
        "#LIST"
      ],
      "metadata": {
        "id": "SCXsPgZ4NMr9"
      },
      "execution_count": null,
      "outputs": []
    },
    {
      "cell_type": "code",
      "source": [
        "v1 = [\"Ashok Leyland\",\"Bajaj Auto\",\"Eicher_Motors\", \"Force Motors\", \"Mahindra & Mahindra Limited\",\"Maruti Suzuki\",\"Tata Motors\"]\n",
        "print(v1)\n",
        "print(type(v1))"
      ],
      "metadata": {
        "colab": {
          "base_uri": "https://localhost:8080/"
        },
        "id": "4XlItrpYM7gp",
        "outputId": "c339f20e-6aaf-45e0-f582-07b81effdab9"
      },
      "execution_count": null,
      "outputs": [
        {
          "output_type": "stream",
          "name": "stdout",
          "text": [
            "['Ashok Leyland', 'Bajaj Auto', 'Eicher_Motors', 'Force Motors', 'Mahindra & Mahindra Limited', 'Maruti Suzuki', 'Tata Motors']\n",
            "<class 'list'>\n"
          ]
        }
      ]
    },
    {
      "cell_type": "code",
      "source": [
        "v1 = [\"Ashok_Leyland\",\"Bajaj_Auto\",\"Eicher_Motors\", \"Force_Motors\", \"Mahindra & Mahindra Limited\",\"Maruti_Suzuki\",\"Tata_Motors\"]\n",
        "v2=(v1[3:7])\n",
        "print(v2)\n",
        "\n",
        "\n"
      ],
      "metadata": {
        "colab": {
          "base_uri": "https://localhost:8080/"
        },
        "id": "pnvGR_9rOEZQ",
        "outputId": "dfb27c7e-6f06-400a-cd06-9c27592e19ff"
      },
      "execution_count": null,
      "outputs": [
        {
          "output_type": "stream",
          "name": "stdout",
          "text": [
            "['Force_Motors', 'Mahindra & Mahindra Limited', 'Maruti_Suzuki', 'Tata_Motors']\n"
          ]
        }
      ]
    },
    {
      "cell_type": "code",
      "source": [
        "#reverse the above list\n",
        "print(v2[::-1])"
      ],
      "metadata": {
        "colab": {
          "base_uri": "https://localhost:8080/"
        },
        "id": "Ac0GjZcIQHDW",
        "outputId": "1746b377-e147-403b-9090-9009c739f4c7"
      },
      "execution_count": null,
      "outputs": [
        {
          "output_type": "stream",
          "name": "stdout",
          "text": [
            "['Tata_Motors', 'Maruti_Suzuki', 'Mahindra & Mahindra Limited', 'Force_Motors']\n"
          ]
        }
      ]
    },
    {
      "cell_type": "code",
      "source": [
        "v2[-1]=\"Toyata\"\n",
        "print(v2)\n",
        "v2.append(\"Honda\")\n",
        "print(v2)"
      ],
      "metadata": {
        "id": "HNA8TQKpSYuh"
      },
      "execution_count": null,
      "outputs": []
    },
    {
      "cell_type": "code",
      "source": [
        "v2.remove('Toyata')\n",
        "print(v2)\n",
        "del v2[-2]\n",
        "print(v2)\n"
      ],
      "metadata": {
        "colab": {
          "base_uri": "https://localhost:8080/"
        },
        "id": "kEhGhomsTK5f",
        "outputId": "fe0bf8f5-5379-41ba-feeb-e86763aeec75"
      },
      "execution_count": null,
      "outputs": [
        {
          "output_type": "stream",
          "name": "stdout",
          "text": [
            "['Force_Motors', 'Mahindra & Mahindra Limited', 'Maruti_Suzuki', 'Toyata', 'Honda']\n",
            "['Force_Motors', 'Mahindra & Mahindra Limited', 'Maruti_Suzuki', 'Honda']\n"
          ]
        }
      ]
    },
    {
      "cell_type": "code",
      "source": [
        "v1.clear()\n",
        "print(v1)"
      ],
      "metadata": {
        "colab": {
          "base_uri": "https://localhost:8080/"
        },
        "id": "HoOROEnHUWBt",
        "outputId": "12dc4ffb-03fe-46eb-d110-6253b6df2879"
      },
      "execution_count": null,
      "outputs": [
        {
          "output_type": "stream",
          "name": "stdout",
          "text": [
            "[]\n"
          ]
        }
      ]
    },
    {
      "cell_type": "code",
      "source": [
        "import calendar\n",
        "year=int(input(\"Enter year: \"))\n",
        "#month=10\n",
        "#print(calendar.month(year,month))\n",
        "print(calendar.calendar(year))"
      ],
      "metadata": {
        "id": "8A1PW-Ay4M8g"
      },
      "execution_count": null,
      "outputs": []
    },
    {
      "cell_type": "code",
      "source": [
        "#factorial\n",
        "def factorial(N):\n",
        "  result=1\n",
        "  i=1\n",
        "  while i<=N:\n",
        "    result*=i\n",
        "    i=i+1\n",
        "  return result\n",
        "N=int(input(\"Enter a number:\"))\n",
        "if 1<=N<=25:\n",
        "  print(\"factorial of \",N,\"is \", factorial(N))\n",
        "else:\n",
        "  print(\"Enter a numner between 1 to 25\")"
      ],
      "metadata": {
        "colab": {
          "base_uri": "https://localhost:8080/"
        },
        "id": "BaPo4I49tEh4",
        "outputId": "795a0bb3-1d63-42ab-b820-3fd9eb45f247"
      },
      "execution_count": null,
      "outputs": [
        {
          "output_type": "stream",
          "name": "stdout",
          "text": [
            "Enter a number:5\n",
            "factorial of  5 is  120\n"
          ]
        }
      ]
    },
    {
      "cell_type": "code",
      "source": [
        " N=int(input(\"Enter a number: \"))\n",
        " output=bin(N)[2:]\n",
        " print(output)"
      ],
      "metadata": {
        "id": "R_VcXo_KvUpF"
      },
      "execution_count": null,
      "outputs": []
    },
    {
      "cell_type": "markdown",
      "source": [
        "9.Use a loop to display elements from a given list present at odd index positions\n",
        "\n",
        "Given:\n",
        "\n",
        "my_list = [10, 20, 30, 40, 50, 60, 70, 80, 90, 100]\n",
        "\n",
        "Note: list index always starts at 0\n",
        "\n",
        "Expected output:\n",
        "\n",
        "20 40 60 80 100"
      ],
      "metadata": {
        "id": "zyE-GdXMwai8"
      }
    },
    {
      "cell_type": "code",
      "source": [
        "my_list = [10, 20, 30, 40, 50, 60, 70, 80, 90, 100]\n",
        "for i in range(len(my_list)):\n",
        "  if i%2!=0:\n",
        "    print(my_list[i])"
      ],
      "metadata": {
        "colab": {
          "base_uri": "https://localhost:8080/"
        },
        "id": "C0aAyQF7wXfE",
        "outputId": "e711183e-1b03-4792-f8c3-15810a5daa6e"
      },
      "execution_count": null,
      "outputs": [
        {
          "output_type": "stream",
          "name": "stdout",
          "text": [
            "20\n",
            "40\n",
            "60\n",
            "80\n",
            "100\n"
          ]
        }
      ]
    },
    {
      "cell_type": "code",
      "source": [
        "def sum_of(S,E):\n",
        "  return sum(range(S,E+1))\n",
        "S=int(input(\"Enter start of the range: \"))\n",
        "E=int(input(\"Enter End of the range: \"))\n",
        "sum=sum_of(S,E)\n",
        "print(sum)"
      ],
      "metadata": {
        "colab": {
          "base_uri": "https://localhost:8080/"
        },
        "id": "3ob2kp_Px51Y",
        "outputId": "56bdd549-7347-460e-dc32-69467c3c8f61"
      },
      "execution_count": null,
      "outputs": [
        {
          "output_type": "stream",
          "name": "stdout",
          "text": [
            "Enter start of the range: 2\n",
            "Enter End of the range: 5\n",
            "14\n"
          ]
        }
      ]
    },
    {
      "cell_type": "code",
      "source": [
        "def add(x, y):\n",
        "    return x + y\n",
        "\n",
        "def subtract(x, y):\n",
        "    return x - y\n",
        "\n",
        "def multiply(x, y):\n",
        "    return x * y\n",
        "\n",
        "def divide(x, y):\n",
        "    if y == 0:\n",
        "        return \"Error! Division by zero.\"\n",
        "    return x / y\n",
        "\n",
        "def calculator():\n",
        "    print(\"Select operation:\")\n",
        "    print(\"1. Add\")\n",
        "    print(\"2. Subtract\")\n",
        "    print(\"3. Multiply\")\n",
        "    print(\"4. Divide\")\n",
        "\n",
        "    choice = input(\"Enter choice (1/2/3/4): \")\n",
        "\n",
        "    num1 = float(input(\"Enter first number: \"))\n",
        "    num2 = float(input(\"Enter second number: \"))\n",
        "\n",
        "    if choice == '1':\n",
        "        print(f\"{num1} + {num2} = {add(num1, num2)}\")\n",
        "    elif choice == '2':\n",
        "        print(f\"{num1} - {num2} = {subtract(num1, num2)}\")\n",
        "    elif choice == '3':\n",
        "        print(f\"{num1} * {num2} = {multiply(num1, num2)}\")\n",
        "    elif choice == '4':\n",
        "        print(f\"{num1} / {num2} = {divide(num1, num2)}\")\n",
        "    else:\n",
        "        print(\"Invalid input\")\n",
        "\n",
        "if __name__ == \"__main__\":\n",
        "    calculator()\n"
      ],
      "metadata": {
        "id": "MTfLHAU63Jtc"
      },
      "execution_count": null,
      "outputs": []
    },
    {
      "cell_type": "code",
      "source": [
        "# Password Generator\n",
        "\n",
        "import random\n",
        "import string\n",
        "\n",
        "def generate_password(length=12):\n",
        "    characters = string.ascii_letters + string.digits + string.punctuation\n",
        "    password = ''.join(random.choice(characters) for i in range(length))\n",
        "    return password\n",
        "\n",
        "# Generate a password\n",
        "print(generate_password())\n"
      ],
      "metadata": {
        "colab": {
          "base_uri": "https://localhost:8080/"
        },
        "id": "I8JCkAtxDF8N",
        "outputId": "58fb0771-8852-4263-a574-0b1e04216441"
      },
      "execution_count": null,
      "outputs": [
        {
          "output_type": "stream",
          "name": "stdout",
          "text": [
            "m{ol?]sBfIsO\n"
          ]
        }
      ]
    },
    {
      "cell_type": "code",
      "source": [
        "import time\n",
        "\n",
        "def countdown_timer(seconds):\n",
        "    while seconds:\n",
        "        mins, secs = divmod(seconds, 60)\n",
        "        timer = '{:02d}:{:02d}'.format(mins, secs)\n",
        "        print(timer, end='\\r')\n",
        "        time.sleep(1)\n",
        "        seconds -= 1\n",
        "    print(\"Time's up!\")\n",
        "\n",
        "# Example usage\n",
        "countdown_timer(5)\n"
      ],
      "metadata": {
        "colab": {
          "base_uri": "https://localhost:8080/"
        },
        "id": "aouJPxuaFBRT",
        "outputId": "5c1cb3a2-64e7-40d1-8ed5-9350d7d85c57"
      },
      "execution_count": null,
      "outputs": [
        {
          "output_type": "stream",
          "name": "stdout",
          "text": [
            "Time's up!\n"
          ]
        }
      ]
    },
    {
      "cell_type": "markdown",
      "source": [
        "**Chessboard**"
      ],
      "metadata": {
        "id": "dZrBSBbDLNBw"
      }
    },
    {
      "cell_type": "code",
      "source": [
        "#Create a cessboard\n",
        "import numpy as np\n",
        "import matplotlib.pyplot as plt\n",
        "\n",
        "def create_chess_board():\n",
        "    chess_board = np.zeros((8,8))\n",
        "    chess_board[1::2, ::2] = 1\n",
        "    chess_board[::2, 1::2] = 1\n",
        "\n",
        "    plt.figure(figsize=(4,4))\n",
        "    plt.imshow(chessboard,cmap='gray', interpolation='nearest')\n",
        "    plt.xticks([])\n",
        "    plt.yticks([])\n",
        "    plt.title('chessboard',fontsize=20)\n",
        "    plt.show()\n",
        "\n",
        "create_chess_board()\n",
        "\n"
      ],
      "metadata": {
        "colab": {
          "base_uri": "https://localhost:8080/",
          "height": 375
        },
        "id": "rXDvjoVjDECY",
        "outputId": "84967158-b925-4a4f-fc35-fff4259db6fe"
      },
      "execution_count": null,
      "outputs": [
        {
          "output_type": "display_data",
          "data": {
            "text/plain": [
              "<Figure size 400x400 with 1 Axes>"
            ],
            "image/png": "[encoded data removed]"
          },
          "metadata": {}
        }
      ]
    },
    {
      "cell_type": "code",
      "source": [
        "import numpy as np\n",
        "import matplotlib.pyplot as plt\n",
        "\n",
        "# Create an 8x8 chessboard\n",
        "chessboard = np.zeros((8, 8))\n",
        "\n",
        "# Fill the chessboard with alternating 1s and 0s\n",
        "chessboard[1::2, ::2] = 1\n",
        "chessboard[::2, 1::2] = 1\n",
        "\n",
        "# Plot the chessboard\n",
        "plt.imshow(chessboard, cmap='gray', extent=[0, 8, 0, 8])\n",
        "plt.xticks(np.arange(0.5, 8, 1), np.arange(1, 9))\n",
        "plt.yticks(np.arange(0.5, 8, 1), np.arange(1, 9))\n",
        "plt.grid(False)\n",
        "plt.title('chessboard',fontsize=20)\n",
        "plt.show()"
      ],
      "metadata": {
        "id": "Ue7H_ka7Frqb"
      },
      "execution_count": null,
      "outputs": []
    },
    {
      "cell_type": "markdown",
      "source": [
        "**Different ways to square a list**"
      ],
      "metadata": {
        "id": "9kqkzmZ-ARId"
      }
    },
    {
      "cell_type": "code",
      "source": [
        "n1=[1,2,3,4,5]\n",
        "squared=[]\n",
        "for num in n1:\n",
        "  squared.append(num**2)\n",
        "print(squared)"
      ],
      "metadata": {
        "colab": {
          "base_uri": "https://localhost:8080/"
        },
        "id": "tY7m5_-hAQro",
        "outputId": "65730956-fbed-4f0b-fe7e-265b0ab6fb3f"
      },
      "execution_count": null,
      "outputs": [
        {
          "output_type": "stream",
          "name": "stdout",
          "text": [
            "[1, 4, 9, 16, 25]\n"
          ]
        }
      ]
    },
    {
      "cell_type": "code",
      "source": [
        "n1=[1,2,3,4,5]\n",
        "squared=[num**2 for num in n1]\n",
        "print(squared)"
      ],
      "metadata": {
        "colab": {
          "base_uri": "https://localhost:8080/"
        },
        "id": "GQ8CqQWPBPl_",
        "outputId": "dff40226-8ca9-462a-af93-b2d2c9225ab3"
      },
      "execution_count": null,
      "outputs": [
        {
          "output_type": "stream",
          "name": "stdout",
          "text": [
            "[1, 4, 9, 16, 25]\n"
          ]
        }
      ]
    },
    {
      "cell_type": "code",
      "source": [
        "n1=[1,2,3,4,5]\n",
        "squared=list(map(lambda x:x**2,n1))\n",
        "print(squared)"
      ],
      "metadata": {
        "colab": {
          "base_uri": "https://localhost:8080/"
        },
        "id": "2DiiPCROBj_G",
        "outputId": "5c30ef83-568a-4187-dadd-553fe3c2d209"
      },
      "execution_count": null,
      "outputs": [
        {
          "output_type": "stream",
          "name": "stdout",
          "text": [
            "[1, 4, 9, 16, 25]\n"
          ]
        }
      ]
    },
    {
      "cell_type": "code",
      "source": [
        "n1=[1,2,3,4,5]\n",
        "def square(x):\n",
        "  return x**2\n",
        "squar_values=list(map(square,n1))\n",
        "print(squar_values)\n",
        "\n",
        "\n",
        "\n"
      ],
      "metadata": {
        "colab": {
          "base_uri": "https://localhost:8080/"
        },
        "id": "3N-D7_5uCukl",
        "outputId": "eca32cb4-93fc-4bcf-9d7d-a295579091d3"
      },
      "execution_count": null,
      "outputs": [
        {
          "output_type": "stream",
          "name": "stdout",
          "text": [
            "[1, 4, 9, 16, 25]\n"
          ]
        }
      ]
    },
    {
      "cell_type": "code",
      "source": [
        "#using numpy\n",
        "import numpy as np\n",
        "n1=[1,2,3,4,5]\n",
        "squared=np.square(n1)\n",
        "print(squared)"
      ],
      "metadata": {
        "colab": {
          "base_uri": "https://localhost:8080/"
        },
        "id": "h2IJZ5t8DwCw",
        "outputId": "0d661524-5b59-4b85-cec6-9fae4387392b"
      },
      "execution_count": null,
      "outputs": [
        {
          "output_type": "stream",
          "name": "stdout",
          "text": [
            "[ 1  4  9 16 25]\n"
          ]
        }
      ]
    },
    {
      "cell_type": "code",
      "source": [
        "# counting VOWELS in a given word\n",
        "word = input(\"Enter a word: \")\n",
        "vowels = \"aeiouAEIOU\"\n",
        "count = 0\n",
        "\n",
        "for letter in word:\n",
        "    if letter in vowels:\n",
        "        count += 1\n",
        "\n",
        "print(\"Number of vowels in the word:\", count)"
      ],
      "metadata": {
        "id": "ZLN5tdwnqJUR"
      },
      "execution_count": null,
      "outputs": []
    }
  ]
}